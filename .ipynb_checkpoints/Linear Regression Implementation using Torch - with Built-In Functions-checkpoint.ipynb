{
 "cells": [
  {
   "cell_type": "code",
   "execution_count": 2,
   "metadata": {},
   "outputs": [],
   "source": [
    "import torch\n",
    "import torch.nn as nn"
   ]
  },
  {
   "cell_type": "code",
   "execution_count": 4,
   "metadata": {},
   "outputs": [],
   "source": [
    "# Input (temp, rainfall, humidity)\n",
    "inputs = torch.tensor([[73, 67, 43], \n",
    "                   [91, 88, 64], \n",
    "                   [87, 134, 58], \n",
    "                   [102, 43, 37], \n",
    "                   [69, 96, 70], \n",
    "                   [74, 66, 43], \n",
    "                   [91, 87, 65], \n",
    "                   [88, 134, 59], \n",
    "                   [101, 44, 37], \n",
    "                   [68, 96, 71], \n",
    "                   [73, 66, 44], \n",
    "                   [92, 87, 64], \n",
    "                   [87, 135, 57], \n",
    "                   [103, 43, 36], \n",
    "                   [68, 97, 70]], \n",
    "                  dtype=torch.float32)\n",
    "\n",
    "# Targets (apples, oranges)\n",
    "targets = torch.tensor([[56, 70], \n",
    "                    [81, 101], \n",
    "                    [119, 133], \n",
    "                    [22, 37], \n",
    "                    [103, 119],\n",
    "                    [57, 69], \n",
    "                    [80, 102], \n",
    "                    [118, 132], \n",
    "                    [21, 38], \n",
    "                    [104, 118], \n",
    "                    [57, 69], \n",
    "                    [82, 100], \n",
    "                    [118, 134], \n",
    "                    [20, 38], \n",
    "                    [102, 120]], \n",
    "                   dtype=torch.float32)"
   ]
  },
  {
   "cell_type": "code",
   "execution_count": 5,
   "metadata": {},
   "outputs": [
    {
     "data": {
      "text/plain": [
       "tensor([[ 73.,  67.,  43.],\n",
       "        [ 91.,  88.,  64.],\n",
       "        [ 87., 134.,  58.],\n",
       "        [102.,  43.,  37.],\n",
       "        [ 69.,  96.,  70.],\n",
       "        [ 74.,  66.,  43.],\n",
       "        [ 91.,  87.,  65.],\n",
       "        [ 88., 134.,  59.],\n",
       "        [101.,  44.,  37.],\n",
       "        [ 68.,  96.,  71.],\n",
       "        [ 73.,  66.,  44.],\n",
       "        [ 92.,  87.,  64.],\n",
       "        [ 87., 135.,  57.],\n",
       "        [103.,  43.,  36.],\n",
       "        [ 68.,  97.,  70.]])"
      ]
     },
     "execution_count": 5,
     "metadata": {},
     "output_type": "execute_result"
    }
   ],
   "source": [
    "inputs"
   ]
  },
  {
   "cell_type": "code",
   "execution_count": 6,
   "metadata": {},
   "outputs": [
    {
     "data": {
      "text/plain": [
       "tensor([[ 56.,  70.],\n",
       "        [ 81., 101.],\n",
       "        [119., 133.],\n",
       "        [ 22.,  37.],\n",
       "        [103., 119.],\n",
       "        [ 57.,  69.],\n",
       "        [ 80., 102.],\n",
       "        [118., 132.],\n",
       "        [ 21.,  38.],\n",
       "        [104., 118.],\n",
       "        [ 57.,  69.],\n",
       "        [ 82., 100.],\n",
       "        [118., 134.],\n",
       "        [ 20.,  38.],\n",
       "        [102., 120.]])"
      ]
     },
     "execution_count": 6,
     "metadata": {},
     "output_type": "execute_result"
    }
   ],
   "source": [
    "targets"
   ]
  },
  {
   "cell_type": "markdown",
   "metadata": {},
   "source": [
    "TensorDataset allows access to rows from inputs and targets as tuples, and provides standard APIs for working with many different types of datasets in PyTorch."
   ]
  },
  {
   "cell_type": "code",
   "execution_count": 7,
   "metadata": {},
   "outputs": [],
   "source": [
    "from torch.utils.data import TensorDataset"
   ]
  },
  {
   "cell_type": "code",
   "execution_count": 8,
   "metadata": {},
   "outputs": [
    {
     "data": {
      "text/plain": [
       "(tensor([[ 73.,  67.,  43.],\n",
       "         [ 91.,  88.,  64.],\n",
       "         [ 87., 134.,  58.],\n",
       "         [102.,  43.,  37.],\n",
       "         [ 69.,  96.,  70.]]),\n",
       " tensor([[ 56.,  70.],\n",
       "         [ 81., 101.],\n",
       "         [119., 133.],\n",
       "         [ 22.,  37.],\n",
       "         [103., 119.]]))"
      ]
     },
     "execution_count": 8,
     "metadata": {},
     "output_type": "execute_result"
    }
   ],
   "source": [
    "# Define dataset\n",
    "train_ds = TensorDataset(inputs, targets)\n",
    "train_ds[0:5]"
   ]
  },
  {
   "cell_type": "markdown",
   "metadata": {},
   "source": [
    "A DataLoader splits the data into batches of a predefined size while training. It also provides other utilities like shuffling and random sampling of the data."
   ]
  },
  {
   "cell_type": "code",
   "execution_count": 9,
   "metadata": {},
   "outputs": [],
   "source": [
    "from torch.utils.data import DataLoader"
   ]
  },
  {
   "cell_type": "code",
   "execution_count": 10,
   "metadata": {},
   "outputs": [],
   "source": [
    "# Define data loader\n",
    "batch_size = 5\n",
    "train_data = DataLoader(train_ds, batch_size, shuffle=True)"
   ]
  },
  {
   "cell_type": "code",
   "execution_count": 11,
   "metadata": {},
   "outputs": [
    {
     "name": "stdout",
     "output_type": "stream",
     "text": [
      "tensor([[101.,  44.,  37.],\n",
      "        [ 92.,  87.,  64.],\n",
      "        [ 68.,  96.,  71.],\n",
      "        [ 91.,  87.,  65.],\n",
      "        [103.,  43.,  36.]])\n",
      "tensor([[ 21.,  38.],\n",
      "        [ 82., 100.],\n",
      "        [104., 118.],\n",
      "        [ 80., 102.],\n",
      "        [ 20.,  38.]])\n"
     ]
    }
   ],
   "source": [
    "for X, y in train_data:\n",
    "    print(X)\n",
    "    print(y)\n",
    "    break"
   ]
  },
  {
   "cell_type": "markdown",
   "metadata": {},
   "source": [
    "### nn.Linear()\n",
    "\n",
    "    #Instead of initializing the weights & biases manually, we can define the model using the nn.Linear class from PyTorch, which does it automatically"
   ]
  },
  {
   "cell_type": "code",
   "execution_count": 15,
   "metadata": {},
   "outputs": [
    {
     "name": "stdout",
     "output_type": "stream",
     "text": [
      "Parameter containing:\n",
      "tensor([[-0.2389,  0.2124,  0.2872],\n",
      "        [ 0.2187,  0.5588, -0.0950]], requires_grad=True)\n",
      "Parameter containing:\n",
      "tensor([0.0496, 0.1226], requires_grad=True)\n"
     ]
    }
   ],
   "source": [
    "# Define model\n",
    "linear_model = nn.Linear(3, 2)\n",
    "print(linear_model.weight)\n",
    "print(linear_model.bias)"
   ]
  },
  {
   "cell_type": "code",
   "execution_count": 17,
   "metadata": {},
   "outputs": [
    {
     "data": {
      "text/plain": [
       "[Parameter containing:\n",
       " tensor([[-0.2389,  0.2124,  0.2872],\n",
       "         [ 0.2187,  0.5588, -0.0950]], requires_grad=True),\n",
       " Parameter containing:\n",
       " tensor([0.0496, 0.1226], requires_grad=True)]"
      ]
     },
     "execution_count": 17,
     "metadata": {},
     "output_type": "execute_result"
    }
   ],
   "source": [
    "# Parameters\n",
    "list(linear_model.parameters())"
   ]
  },
  {
   "cell_type": "code",
   "execution_count": 18,
   "metadata": {},
   "outputs": [
    {
     "data": {
      "text/plain": [
       "tensor([[ 9.1876, 49.4421],\n",
       "        [15.3777, 63.1187],\n",
       "        [24.3790, 88.5198],\n",
       "        [-4.5596, 42.9415],\n",
       "        [24.0550, 62.2087],\n",
       "        [ 8.7363, 49.1019],\n",
       "        [15.4525, 62.4649],\n",
       "        [24.4273, 88.6435],\n",
       "        [-4.1084, 43.2817],\n",
       "        [24.5810, 61.8951],\n",
       "        [ 9.2624, 48.7883],\n",
       "        [14.9265, 62.7785],\n",
       "        [24.3042, 89.1736],\n",
       "        [-5.0857, 43.2552],\n",
       "        [24.5062, 62.5489]], grad_fn=<AddmmBackward>)"
      ]
     },
     "execution_count": 18,
     "metadata": {},
     "output_type": "execute_result"
    }
   ],
   "source": [
    "# Generate predictions\n",
    "y_pred = linear_model(inputs)\n",
    "y_pred"
   ]
  },
  {
   "cell_type": "code",
   "execution_count": 19,
   "metadata": {},
   "outputs": [],
   "source": [
    "# Import nn.functional\n",
    "import torch.nn.functional as F"
   ]
  },
  {
   "cell_type": "code",
   "execution_count": 20,
   "metadata": {},
   "outputs": [],
   "source": [
    "# Define loss function\n",
    "loss_fn = F.mse_loss"
   ]
  },
  {
   "cell_type": "code",
   "execution_count": 22,
   "metadata": {},
   "outputs": [
    {
     "name": "stdout",
     "output_type": "stream",
     "text": [
      "tensor(2933.7275, grad_fn=<MseLossBackward>)\n"
     ]
    }
   ],
   "source": [
    "loss = loss_fn(linear_model(inputs), targets)\n",
    "print(loss)"
   ]
  },
  {
   "cell_type": "code",
   "execution_count": 23,
   "metadata": {},
   "outputs": [],
   "source": [
    "# Define optimizer\n",
    "opt = torch.optim.SGD(linear_model.parameters(), lr=1e-5)"
   ]
  },
  {
   "cell_type": "code",
   "execution_count": 24,
   "metadata": {},
   "outputs": [],
   "source": [
    "# Utility function to train the model\n",
    "\n",
    "def train_utility(num_epochs, model, loss_fn, opt, train_data):\n",
    "    \n",
    "    # Repeat for given number of epochs\n",
    "    for epoch in range(num_epochs):\n",
    "        \n",
    "        # Train with batches of data\n",
    "        for X,y in train_data:\n",
    "            \n",
    "            # 1. Generate predictions\n",
    "            y_pred = model(X)\n",
    "            \n",
    "            # 2. Calculate loss\n",
    "            loss = loss_fn(y_pred, y)\n",
    "            \n",
    "            # 3. Compute gradients\n",
    "            loss.backward()\n",
    "            \n",
    "            # 4. Update parameters using gradients\n",
    "            opt.step()\n",
    "            \n",
    "            # 5. Reset the gradients to zero\n",
    "            opt.zero_grad()\n",
    "        \n",
    "        # Print the progress\n",
    "        if (epoch+1) % 10 == 0:\n",
    "            print('Epoch [{}/{}], Loss: {:.4f}'.format(epoch+1, num_epochs, loss.item()))"
   ]
  },
  {
   "cell_type": "code",
   "execution_count": 26,
   "metadata": {},
   "outputs": [
    {
     "name": "stdout",
     "output_type": "stream",
     "text": [
      "Epoch [10/300], Loss: 282.0091\n",
      "Epoch [20/300], Loss: 140.4294\n",
      "Epoch [30/300], Loss: 55.5235\n",
      "Epoch [40/300], Loss: 102.6329\n",
      "Epoch [50/300], Loss: 60.4891\n",
      "Epoch [60/300], Loss: 64.7169\n",
      "Epoch [70/300], Loss: 32.5302\n",
      "Epoch [80/300], Loss: 59.3686\n",
      "Epoch [90/300], Loss: 34.0054\n",
      "Epoch [100/300], Loss: 41.7797\n",
      "Epoch [110/300], Loss: 26.0860\n",
      "Epoch [120/300], Loss: 32.2542\n",
      "Epoch [130/300], Loss: 28.2498\n",
      "Epoch [140/300], Loss: 22.7104\n",
      "Epoch [150/300], Loss: 27.8591\n",
      "Epoch [160/300], Loss: 9.2141\n",
      "Epoch [170/300], Loss: 6.5895\n",
      "Epoch [180/300], Loss: 18.0521\n",
      "Epoch [190/300], Loss: 8.7308\n",
      "Epoch [200/300], Loss: 16.7496\n",
      "Epoch [210/300], Loss: 8.0196\n",
      "Epoch [220/300], Loss: 15.9278\n",
      "Epoch [230/300], Loss: 13.9257\n",
      "Epoch [240/300], Loss: 14.9016\n",
      "Epoch [250/300], Loss: 8.0914\n",
      "Epoch [260/300], Loss: 16.0742\n",
      "Epoch [270/300], Loss: 11.0364\n",
      "Epoch [280/300], Loss: 11.1286\n",
      "Epoch [290/300], Loss: 5.1676\n",
      "Epoch [300/300], Loss: 8.4411\n"
     ]
    }
   ],
   "source": [
    "train_utility(300, linear_model, loss_fn, opt, train_data)"
   ]
  },
  {
   "cell_type": "code",
   "execution_count": 27,
   "metadata": {},
   "outputs": [
    {
     "data": {
      "text/plain": [
       "tensor([[ 57.0610,  70.8804],\n",
       "        [ 81.5766,  98.2030],\n",
       "        [119.2499, 138.3338],\n",
       "        [ 21.1999,  39.3875],\n",
       "        [100.8403, 113.4363],\n",
       "        [ 55.8056,  69.7487],\n",
       "        [ 81.3409,  97.8273],\n",
       "        [119.4942, 138.6792],\n",
       "        [ 22.4554,  40.5192],\n",
       "        [101.8601, 114.1923],\n",
       "        [ 56.8253,  70.5048],\n",
       "        [ 80.3212,  97.0713],\n",
       "        [119.4856, 138.7095],\n",
       "        [ 20.1802,  38.6314],\n",
       "        [102.0957, 114.5680]], grad_fn=<AddmmBackward>)"
      ]
     },
     "execution_count": 27,
     "metadata": {},
     "output_type": "execute_result"
    }
   ],
   "source": [
    "# Generate predictions\n",
    "y_pred = linear_model(inputs)\n",
    "y_pred"
   ]
  },
  {
   "cell_type": "code",
   "execution_count": 28,
   "metadata": {},
   "outputs": [
    {
     "data": {
      "text/plain": [
       "tensor([[ 56.,  70.],\n",
       "        [ 81., 101.],\n",
       "        [119., 133.],\n",
       "        [ 22.,  37.],\n",
       "        [103., 119.],\n",
       "        [ 57.,  69.],\n",
       "        [ 80., 102.],\n",
       "        [118., 132.],\n",
       "        [ 21.,  38.],\n",
       "        [104., 118.],\n",
       "        [ 57.,  69.],\n",
       "        [ 82., 100.],\n",
       "        [118., 134.],\n",
       "        [ 20.,  38.],\n",
       "        [102., 120.]])"
      ]
     },
     "execution_count": 28,
     "metadata": {},
     "output_type": "execute_result"
    }
   ],
   "source": [
    "targets"
   ]
  }
 ],
 "metadata": {
  "kernelspec": {
   "display_name": "Python 3",
   "language": "python",
   "name": "python3"
  },
  "language_info": {
   "codemirror_mode": {
    "name": "ipython",
    "version": 3
   },
   "file_extension": ".py",
   "mimetype": "text/x-python",
   "name": "python",
   "nbconvert_exporter": "python",
   "pygments_lexer": "ipython3",
   "version": "3.8.5"
  }
 },
 "nbformat": 4,
 "nbformat_minor": 4
}
